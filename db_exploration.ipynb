{
 "cells": [
  {
   "cell_type": "code",
   "execution_count": 36,
   "metadata": {},
   "outputs": [],
   "source": [
    "from sqlalchemy import create_engine\n",
    "import pandas as pd"
   ]
  },
  {
   "cell_type": "code",
   "execution_count": 139,
   "metadata": {},
   "outputs": [],
   "source": [
    "import matplotlib.pyplot as plt\n",
    "plt.rcParams[\"font.family\"] = \"TH Sarabun New\""
   ]
  },
  {
   "cell_type": "code",
   "execution_count": 37,
   "metadata": {},
   "outputs": [],
   "source": [
    "MYSQL_PASSWORD = ''",
    "DATABASE = 'mtc'"
   ]
  },
  {
   "cell_type": "code",
   "execution_count": 118,
   "metadata": {},
   "outputs": [],
   "source": [
    "engine = create_engine('mysql+mysqlconnector://root:{}@localhost/{}'.format(MYSQL_PASSWORD, DATABASE))"
   ]
  },
  {
   "cell_type": "code",
   "execution_count": 119,
   "metadata": {},
   "outputs": [],
   "source": [
    "member_df = pd.read_sql_table('member', con=engine)"
   ]
  },
  {
   "cell_type": "code",
   "execution_count": 120,
   "metadata": {},
   "outputs": [
    {
     "data": {
      "text/html": [
       "<div>\n",
       "<style scoped>\n",
       "    .dataframe tbody tr th:only-of-type {\n",
       "        vertical-align: middle;\n",
       "    }\n",
       "\n",
       "    .dataframe tbody tr th {\n",
       "        vertical-align: top;\n",
       "    }\n",
       "\n",
       "    .dataframe thead th {\n",
       "        text-align: right;\n",
       "    }\n",
       "</style>\n",
       "<table border=\"1\" class=\"dataframe\">\n",
       "  <thead>\n",
       "    <tr style=\"text-align: right;\">\n",
       "      <th></th>\n",
       "      <th>mem_id</th>\n",
       "      <th>title_id</th>\n",
       "      <th>fname</th>\n",
       "      <th>lname</th>\n",
       "      <th>e_title</th>\n",
       "      <th>e_fname</th>\n",
       "      <th>e_lname</th>\n",
       "      <th>gender</th>\n",
       "      <th>persion_id</th>\n",
       "      <th>login_user</th>\n",
       "      <th>...</th>\n",
       "      <th>cpd_score60</th>\n",
       "      <th>mem_id_txt</th>\n",
       "      <th>office_type_id</th>\n",
       "      <th>position</th>\n",
       "      <th>addr_lastupdate</th>\n",
       "      <th>other_office_type</th>\n",
       "      <th>old_mem_id</th>\n",
       "      <th>begin_s_year</th>\n",
       "      <th>new_mem_status</th>\n",
       "      <th>mem_status_id</th>\n",
       "    </tr>\n",
       "  </thead>\n",
       "  <tbody>\n",
       "    <tr>\n",
       "      <th>0</th>\n",
       "      <td>1.0</td>\n",
       "      <td>นาย</td>\n",
       "      <td>เดชา</td>\n",
       "      <td>ร่มไทรย์</td>\n",
       "      <td>Mr.</td>\n",
       "      <td>Decha</td>\n",
       "      <td>Romcai</td>\n",
       "      <td>None</td>\n",
       "      <td>12345</td>\n",
       "      <td>1</td>\n",
       "      <td>...</td>\n",
       "      <td>0.0</td>\n",
       "      <td>199947000001</td>\n",
       "      <td>NaN</td>\n",
       "      <td>None</td>\n",
       "      <td>NaT</td>\n",
       "      <td>None</td>\n",
       "      <td>NaN</td>\n",
       "      <td>None</td>\n",
       "      <td>None</td>\n",
       "      <td>1.0</td>\n",
       "    </tr>\n",
       "    <tr>\n",
       "      <th>1</th>\n",
       "      <td>2.0</td>\n",
       "      <td>นาย</td>\n",
       "      <td>ประสิทธิ์</td>\n",
       "      <td>ชนะรัตน์</td>\n",
       "      <td>Mr.</td>\n",
       "      <td>Prasit</td>\n",
       "      <td>Chanarat</td>\n",
       "      <td>None</td>\n",
       "      <td>3509901499470</td>\n",
       "      <td>3509901499470</td>\n",
       "      <td>...</td>\n",
       "      <td>0.0</td>\n",
       "      <td>199947000002</td>\n",
       "      <td>0.0</td>\n",
       "      <td></td>\n",
       "      <td>NaT</td>\n",
       "      <td>-</td>\n",
       "      <td>NaN</td>\n",
       "      <td>None</td>\n",
       "      <td>None</td>\n",
       "      <td>1.0</td>\n",
       "    </tr>\n",
       "    <tr>\n",
       "      <th>2</th>\n",
       "      <td>3.0</td>\n",
       "      <td>นาย</td>\n",
       "      <td>ชวลิต</td>\n",
       "      <td>ทัศนสว่าง</td>\n",
       "      <td>Mr.</td>\n",
       "      <td>Chawarit</td>\n",
       "      <td>Tasanasawang</td>\n",
       "      <td>None</td>\n",
       "      <td>T003</td>\n",
       "      <td>as</td>\n",
       "      <td>...</td>\n",
       "      <td>0.0</td>\n",
       "      <td>209947000003</td>\n",
       "      <td>54.0</td>\n",
       "      <td></td>\n",
       "      <td>NaT</td>\n",
       "      <td></td>\n",
       "      <td>NaN</td>\n",
       "      <td>None</td>\n",
       "      <td>None</td>\n",
       "      <td>1.0</td>\n",
       "    </tr>\n",
       "    <tr>\n",
       "      <th>3</th>\n",
       "      <td>4.0</td>\n",
       "      <td>ร.ต.</td>\n",
       "      <td>ศิริ</td>\n",
       "      <td>ฉิมอ่อน</td>\n",
       "      <td></td>\n",
       "      <td></td>\n",
       "      <td></td>\n",
       "      <td>None</td>\n",
       "      <td>#null</td>\n",
       "      <td>4</td>\n",
       "      <td>...</td>\n",
       "      <td>0.0</td>\n",
       "      <td>209947000004</td>\n",
       "      <td>0.0</td>\n",
       "      <td></td>\n",
       "      <td>NaT</td>\n",
       "      <td>None</td>\n",
       "      <td>NaN</td>\n",
       "      <td>None</td>\n",
       "      <td>None</td>\n",
       "      <td>1.0</td>\n",
       "    </tr>\n",
       "    <tr>\n",
       "      <th>4</th>\n",
       "      <td>5.0</td>\n",
       "      <td>นางสาว</td>\n",
       "      <td>ศรีสิริ</td>\n",
       "      <td>ชาตะสิงห</td>\n",
       "      <td></td>\n",
       "      <td></td>\n",
       "      <td></td>\n",
       "      <td>None</td>\n",
       "      <td>T0005</td>\n",
       "      <td>11</td>\n",
       "      <td>...</td>\n",
       "      <td>0.0</td>\n",
       "      <td>209947000005</td>\n",
       "      <td>NaN</td>\n",
       "      <td>None</td>\n",
       "      <td>NaT</td>\n",
       "      <td>None</td>\n",
       "      <td>NaN</td>\n",
       "      <td>None</td>\n",
       "      <td>None</td>\n",
       "      <td>2.0</td>\n",
       "    </tr>\n",
       "  </tbody>\n",
       "</table>\n",
       "<p>5 rows × 59 columns</p>\n",
       "</div>"
      ],
      "text/plain": [
       "   mem_id title_id      fname      lname e_title   e_fname       e_lname  \\\n",
       "0     1.0      นาย       เดชา   ร่มไทรย์     Mr.     Decha        Romcai   \n",
       "1     2.0      นาย  ประสิทธิ์   ชนะรัตน์     Mr.    Prasit      Chanarat   \n",
       "2     3.0      นาย      ชวลิต  ทัศนสว่าง     Mr.  Chawarit  Tasanasawang   \n",
       "3     4.0     ร.ต.       ศิริ    ฉิมอ่อน                                   \n",
       "4     5.0   นางสาว    ศรีสิริ   ชาตะสิงห                                   \n",
       "\n",
       "  gender     persion_id     login_user  ... cpd_score60    mem_id_txt  \\\n",
       "0   None          12345              1  ...         0.0  199947000001   \n",
       "1   None  3509901499470  3509901499470  ...         0.0  199947000002   \n",
       "2   None           T003             as  ...         0.0  209947000003   \n",
       "3   None          #null              4  ...         0.0  209947000004   \n",
       "4   None          T0005             11  ...         0.0  209947000005   \n",
       "\n",
       "  office_type_id position  addr_lastupdate other_office_type old_mem_id  \\\n",
       "0            NaN     None              NaT              None        NaN   \n",
       "1            0.0                       NaT                 -        NaN   \n",
       "2           54.0                       NaT                          NaN   \n",
       "3            0.0                       NaT              None        NaN   \n",
       "4            NaN     None              NaT              None        NaN   \n",
       "\n",
       "  begin_s_year new_mem_status mem_status_id  \n",
       "0         None           None           1.0  \n",
       "1         None           None           1.0  \n",
       "2         None           None           1.0  \n",
       "3         None           None           1.0  \n",
       "4         None           None           2.0  \n",
       "\n",
       "[5 rows x 59 columns]"
      ]
     },
     "execution_count": 120,
     "metadata": {},
     "output_type": "execute_result"
    }
   ],
   "source": [
    "member_df.head()"
   ]
  },
  {
   "cell_type": "code",
   "execution_count": 11,
   "metadata": {},
   "outputs": [],
   "source": [
    "member_addr_df = pd.read_sql_table('member_add', con=engine)"
   ]
  },
  {
   "cell_type": "code",
   "execution_count": 12,
   "metadata": {},
   "outputs": [
    {
     "data": {
      "text/plain": [
       "add_id                            3\n",
       "mem_id                        16348\n",
       "add1                   ุ6 หมู่ที่ 9\n",
       "moo                            None\n",
       "soi                            None\n",
       "road                           None\n",
       "DISTRICT_ID                    5444\n",
       "AMPHUR_ID                       605\n",
       "PROVINCE_ID                      40\n",
       "GEO_ID                         None\n",
       "zipcode                       52130\n",
       "country_code                    NaN\n",
       "updt            2019-03-01 21:03:52\n",
       "Name: 0, dtype: object"
      ]
     },
     "execution_count": 12,
     "metadata": {},
     "output_type": "execute_result"
    }
   ],
   "source": [
    "member_addr_df.loc[0]"
   ]
  },
  {
   "cell_type": "code",
   "execution_count": 20,
   "metadata": {},
   "outputs": [],
   "source": [
    "office_type_df = pd.read_sql_table('office_type', con=engine)"
   ]
  },
  {
   "cell_type": "code",
   "execution_count": 21,
   "metadata": {},
   "outputs": [
    {
     "data": {
      "text/plain": [
       "office_type_id             50\n",
       "type_name         ยังไม่ทำงาน\n",
       "sql_no                      1\n",
       "Name: 0, dtype: object"
      ]
     },
     "execution_count": 21,
     "metadata": {},
     "output_type": "execute_result"
    }
   ],
   "source": [
    "office_type_df.loc[0]"
   ]
  },
  {
   "cell_type": "code",
   "execution_count": 22,
   "metadata": {},
   "outputs": [
    {
     "data": {
      "text/html": [
       "<div>\n",
       "<style scoped>\n",
       "    .dataframe tbody tr th:only-of-type {\n",
       "        vertical-align: middle;\n",
       "    }\n",
       "\n",
       "    .dataframe tbody tr th {\n",
       "        vertical-align: top;\n",
       "    }\n",
       "\n",
       "    .dataframe thead th {\n",
       "        text-align: right;\n",
       "    }\n",
       "</style>\n",
       "<table border=\"1\" class=\"dataframe\">\n",
       "  <thead>\n",
       "    <tr style=\"text-align: right;\">\n",
       "      <th></th>\n",
       "      <th>office_type_id</th>\n",
       "      <th>type_name</th>\n",
       "      <th>sql_no</th>\n",
       "    </tr>\n",
       "  </thead>\n",
       "  <tbody>\n",
       "    <tr>\n",
       "      <th>0</th>\n",
       "      <td>50</td>\n",
       "      <td>ยังไม่ทำงาน</td>\n",
       "      <td>1</td>\n",
       "    </tr>\n",
       "    <tr>\n",
       "      <th>1</th>\n",
       "      <td>2</td>\n",
       "      <td>หน่วยงานของรัฐสังกัด กระทรวงสาธารณสุข</td>\n",
       "      <td>2</td>\n",
       "    </tr>\n",
       "    <tr>\n",
       "      <th>2</th>\n",
       "      <td>3</td>\n",
       "      <td>หน่วยงานของรัฐ ไม่ได้สังกัดกระทรวงสาธารณสุข</td>\n",
       "      <td>3</td>\n",
       "    </tr>\n",
       "    <tr>\n",
       "      <th>3</th>\n",
       "      <td>4</td>\n",
       "      <td>มหาวิทยาลัยของรัฐ</td>\n",
       "      <td>4</td>\n",
       "    </tr>\n",
       "    <tr>\n",
       "      <th>4</th>\n",
       "      <td>5</td>\n",
       "      <td>มหาวิทยาลัยเอกชน</td>\n",
       "      <td>5</td>\n",
       "    </tr>\n",
       "  </tbody>\n",
       "</table>\n",
       "</div>"
      ],
      "text/plain": [
       "   office_type_id                                    type_name  sql_no\n",
       "0              50                                  ยังไม่ทำงาน       1\n",
       "1               2        หน่วยงานของรัฐสังกัด กระทรวงสาธารณสุข       2\n",
       "2               3  หน่วยงานของรัฐ ไม่ได้สังกัดกระทรวงสาธารณสุข       3\n",
       "3               4                            มหาวิทยาลัยของรัฐ       4\n",
       "4               5                             มหาวิทยาลัยเอกชน       5"
      ]
     },
     "execution_count": 22,
     "metadata": {},
     "output_type": "execute_result"
    }
   ],
   "source": [
    "office_type_df.head()"
   ]
  },
  {
   "cell_type": "code",
   "execution_count": 25,
   "metadata": {},
   "outputs": [],
   "source": [
    "skill_table_df = pd.read_sql_table('skill_table', con=engine)"
   ]
  },
  {
   "cell_type": "code",
   "execution_count": 26,
   "metadata": {},
   "outputs": [
    {
     "data": {
      "text/plain": [
       "skill_id               1\n",
       "skill_name    โลหิตวิทยา\n",
       "seq_no                 2\n",
       "Name: 0, dtype: object"
      ]
     },
     "execution_count": 26,
     "metadata": {},
     "output_type": "execute_result"
    }
   ],
   "source": [
    "skill_table_df.loc[0]"
   ]
  },
  {
   "cell_type": "code",
   "execution_count": 30,
   "metadata": {},
   "outputs": [
    {
     "data": {
      "text/plain": [
       "add_id                            3\n",
       "mem_id                        16348\n",
       "add1                   ุ6 หมู่ที่ 9\n",
       "moo                            None\n",
       "soi                            None\n",
       "road                           None\n",
       "DISTRICT_ID                    5444\n",
       "AMPHUR_ID                       605\n",
       "PROVINCE_ID                      40\n",
       "GEO_ID                         None\n",
       "zipcode                       52130\n",
       "country_code                    NaN\n",
       "updt            2019-03-01 21:03:52\n",
       "Name: 0, dtype: object"
      ]
     },
     "execution_count": 30,
     "metadata": {},
     "output_type": "execute_result"
    }
   ],
   "source": [
    "member_addr_df.loc[0]"
   ]
  },
  {
   "cell_type": "code",
   "execution_count": 42,
   "metadata": {},
   "outputs": [],
   "source": [
    "province_df = pd.read_sql_table('province', con=engine)"
   ]
  },
  {
   "cell_type": "code",
   "execution_count": 43,
   "metadata": {},
   "outputs": [
    {
     "data": {
      "text/html": [
       "<div>\n",
       "<style scoped>\n",
       "    .dataframe tbody tr th:only-of-type {\n",
       "        vertical-align: middle;\n",
       "    }\n",
       "\n",
       "    .dataframe tbody tr th {\n",
       "        vertical-align: top;\n",
       "    }\n",
       "\n",
       "    .dataframe thead th {\n",
       "        text-align: right;\n",
       "    }\n",
       "</style>\n",
       "<table border=\"1\" class=\"dataframe\">\n",
       "  <thead>\n",
       "    <tr style=\"text-align: right;\">\n",
       "      <th></th>\n",
       "      <th>PROVINCE_ID</th>\n",
       "      <th>PROVINCE_CODE</th>\n",
       "      <th>PROVINCE_NAME</th>\n",
       "      <th>GEO_ID</th>\n",
       "    </tr>\n",
       "  </thead>\n",
       "  <tbody>\n",
       "    <tr>\n",
       "      <th>0</th>\n",
       "      <td>1</td>\n",
       "      <td>10</td>\n",
       "      <td>กรุงเทพมหานคร</td>\n",
       "      <td>2</td>\n",
       "    </tr>\n",
       "    <tr>\n",
       "      <th>1</th>\n",
       "      <td>2</td>\n",
       "      <td>11</td>\n",
       "      <td>สมุทรปราการ</td>\n",
       "      <td>2</td>\n",
       "    </tr>\n",
       "    <tr>\n",
       "      <th>2</th>\n",
       "      <td>3</td>\n",
       "      <td>12</td>\n",
       "      <td>นนทบุรี</td>\n",
       "      <td>2</td>\n",
       "    </tr>\n",
       "    <tr>\n",
       "      <th>3</th>\n",
       "      <td>4</td>\n",
       "      <td>13</td>\n",
       "      <td>ปทุมธานี</td>\n",
       "      <td>2</td>\n",
       "    </tr>\n",
       "    <tr>\n",
       "      <th>4</th>\n",
       "      <td>5</td>\n",
       "      <td>14</td>\n",
       "      <td>พระนครศรีอยุธยา</td>\n",
       "      <td>2</td>\n",
       "    </tr>\n",
       "  </tbody>\n",
       "</table>\n",
       "</div>"
      ],
      "text/plain": [
       "   PROVINCE_ID PROVINCE_CODE       PROVINCE_NAME  GEO_ID\n",
       "0            1            10    กรุงเทพมหานคร          2\n",
       "1            2            11      สมุทรปราการ          2\n",
       "2            3            12          นนทบุรี          2\n",
       "3            4            13         ปทุมธานี          2\n",
       "4            5            14  พระนครศรีอยุธยา          2"
      ]
     },
     "execution_count": 43,
     "metadata": {},
     "output_type": "execute_result"
    }
   ],
   "source": [
    "province_df.head()"
   ]
  },
  {
   "cell_type": "code",
   "execution_count": 47,
   "metadata": {},
   "outputs": [],
   "source": [
    "cpd_work_df = pd.read_sql_table('cpd_work', con=engine)"
   ]
  },
  {
   "cell_type": "code",
   "execution_count": 49,
   "metadata": {},
   "outputs": [
    {
     "data": {
      "text/plain": [
       "Index(['PROVINCE_ID', 'PROVINCE_CODE', 'PROVINCE_NAME', 'GEO_ID'], dtype='object')"
      ]
     },
     "execution_count": 49,
     "metadata": {},
     "output_type": "execute_result"
    }
   ],
   "source": [
    "province_df.columns"
   ]
  },
  {
   "cell_type": "code",
   "execution_count": 69,
   "metadata": {},
   "outputs": [],
   "source": [
    "member_office_df = pd.merge(member_df,office_type_df)\n",
    "member_office_df = pd.merge(member_office_df, member_addr_df)\n",
    "member_office_df = pd.merge(member_office_df, province_df, left_on='PROVINCE_ID', right_on='PROVINCE_ID')"
   ]
  },
  {
   "cell_type": "code",
   "execution_count": 70,
   "metadata": {},
   "outputs": [
    {
     "data": {
      "text/plain": [
       "Index(['mem_id', 'title_id', 'fname', 'lname', 'e_title', 'e_fname', 'e_lname',\n",
       "       'gender', 'persion_id', 'login_user', 'login_password', 'student_id',\n",
       "       's_year', 'f_year', 'address_id_doc', 'begin_date', 'exp_date',\n",
       "       'mem_status', 'edu_status', 'add_status', 'nation_code', 'passport_id',\n",
       "       'office_name', 'mobilesms', 'tel_no_house', 'fax_no_house',\n",
       "       'tel_no_office', 'fax_no_office', 'birthday', 'f_pnt_status',\n",
       "       'pnt_status', 'user_id', 'updt', 'u_id_studet', 'pic_member',\n",
       "       'email_member', 'mem_note', 'edu_level', 'u_name', 'mem_skill',\n",
       "       'last_update', 'flow_status_id', 'cpd_1', 'exam_type_main',\n",
       "       'doc_status', 'pic_card', 'pnt_req_date', 'cpd_score', 'cpd_score59',\n",
       "       'cpd_score60', 'mem_id_txt', 'office_type_id', 'position',\n",
       "       'addr_lastupdate', 'other_office_type', 'old_mem_id', 'begin_s_year',\n",
       "       'new_mem_status', 'mem_status_id', 'type_name', 'sql_no', 'add_id',\n",
       "       'add1', 'moo', 'soi', 'road', 'DISTRICT_ID', 'AMPHUR_ID', 'PROVINCE_ID',\n",
       "       'GEO_ID_x', 'zipcode', 'country_code', 'PROVINCE_CODE', 'PROVINCE_NAME',\n",
       "       'GEO_ID_y'],\n",
       "      dtype='object')"
      ]
     },
     "execution_count": 70,
     "metadata": {},
     "output_type": "execute_result"
    }
   ],
   "source": [
    "member_office_df.columns"
   ]
  },
  {
   "cell_type": "code",
   "execution_count": 72,
   "metadata": {},
   "outputs": [
    {
     "data": {
      "text/plain": [
       "PROVINCE_NAME     type_name                            \n",
       "กระบี่            ธุรกิจส่วนตัว                             2\n",
       "                  ประเภทหน่วยงาน อื่น ๆ                     1\n",
       "                  ยังไม่ทำงาน                              16\n",
       "กรุงเทพมหานคร     คลินิคเทคนิคการแพทย์                      3\n",
       "                  ธุรกิจส่วนตัว                             4\n",
       "                                                           ..\n",
       "เพชรบูรณ์         ยังไม่ทำงาน                              19\n",
       "เลย               ยังไม่ทำงาน                               6\n",
       "                  หน่วยงานของรัฐสังกัด กระทรวงสาธารณสุข     3\n",
       "แพร่              มหาวิทยาลัยของรัฐ                         1\n",
       "                  ยังไม่ทำงาน                              16\n",
       "Name: mem_id, Length: 184, dtype: int64"
      ]
     },
     "execution_count": 72,
     "metadata": {},
     "output_type": "execute_result"
    }
   ],
   "source": [
    "member_office_df.groupby(['PROVINCE_NAME', 'type_name']).count()['mem_id']"
   ]
  },
  {
   "cell_type": "code",
   "execution_count": 79,
   "metadata": {},
   "outputs": [
    {
     "data": {
      "text/plain": [
       "type_name\n",
       "คลินิคเทคนิคการแพทย์                             21\n",
       "ธุรกิจส่วนตัว                                    35\n",
       "บริษัทจำหน่ายผลิตภัณฑ์ด้านการแพทย์               37\n",
       "บริษัทบริการสุขภาพด้านการแพทย์                   26\n",
       "ประเภทหน่วยงาน อื่น ๆ                            28\n",
       "มหาวิทยาลัยของรัฐ                                20\n",
       "มหาวิทยาลัยเอกชน                                  3\n",
       "ยังไม่ทำงาน                                    1726\n",
       "ศึกษาต่อในประเทศ                                  4\n",
       "หน่วยงานของรัฐ ไม่ได้สังกัดกระทรวงสาธารณสุข      10\n",
       "หน่วยงานของรัฐสังกัด กระทรวงสาธารณสุข            61\n",
       "โรงพยาบาลเอกชน                                   23\n",
       "Name: mem_id, dtype: int64"
      ]
     },
     "execution_count": 79,
     "metadata": {},
     "output_type": "execute_result"
    }
   ],
   "source": [
    "member_office_df.groupby(['type_name']).count()['mem_id']"
   ]
  },
  {
   "cell_type": "code",
   "execution_count": 84,
   "metadata": {},
   "outputs": [
    {
     "data": {
      "text/html": [
       "<div>\n",
       "<style scoped>\n",
       "    .dataframe tbody tr th:only-of-type {\n",
       "        vertical-align: middle;\n",
       "    }\n",
       "\n",
       "    .dataframe tbody tr th {\n",
       "        vertical-align: top;\n",
       "    }\n",
       "\n",
       "    .dataframe thead th {\n",
       "        text-align: right;\n",
       "    }\n",
       "</style>\n",
       "<table border=\"1\" class=\"dataframe\">\n",
       "  <thead>\n",
       "    <tr style=\"text-align: right;\">\n",
       "      <th></th>\n",
       "      <th>mem_id</th>\n",
       "      <th>title_id</th>\n",
       "      <th>fname</th>\n",
       "      <th>lname</th>\n",
       "      <th>e_title</th>\n",
       "      <th>e_fname</th>\n",
       "      <th>e_lname</th>\n",
       "      <th>gender</th>\n",
       "      <th>persion_id</th>\n",
       "      <th>login_user</th>\n",
       "      <th>...</th>\n",
       "      <th>road</th>\n",
       "      <th>DISTRICT_ID</th>\n",
       "      <th>AMPHUR_ID</th>\n",
       "      <th>PROVINCE_ID</th>\n",
       "      <th>GEO_ID_x</th>\n",
       "      <th>zipcode</th>\n",
       "      <th>country_code</th>\n",
       "      <th>PROVINCE_CODE</th>\n",
       "      <th>PROVINCE_NAME</th>\n",
       "      <th>GEO_ID_y</th>\n",
       "    </tr>\n",
       "  </thead>\n",
       "  <tbody>\n",
       "  </tbody>\n",
       "</table>\n",
       "<p>0 rows × 75 columns</p>\n",
       "</div>"
      ],
      "text/plain": [
       "Empty DataFrame\n",
       "Columns: [mem_id, title_id, fname, lname, e_title, e_fname, e_lname, gender, persion_id, login_user, login_password, student_id, s_year, f_year, address_id_doc, begin_date, exp_date, mem_status, edu_status, add_status, nation_code, passport_id, office_name, mobilesms, tel_no_house, fax_no_house, tel_no_office, fax_no_office, birthday, f_pnt_status, pnt_status, user_id, updt, u_id_studet, pic_member, email_member, mem_note, edu_level, u_name, mem_skill, last_update, flow_status_id, cpd_1, exam_type_main, doc_status, pic_card, pnt_req_date, cpd_score, cpd_score59, cpd_score60, mem_id_txt, office_type_id, position, addr_lastupdate, other_office_type, old_mem_id, begin_s_year, new_mem_status, mem_status_id, type_name, sql_no, add_id, add1, moo, soi, road, DISTRICT_ID, AMPHUR_ID, PROVINCE_ID, GEO_ID_x, zipcode, country_code, PROVINCE_CODE, PROVINCE_NAME, GEO_ID_y]\n",
       "Index: []\n",
       "\n",
       "[0 rows x 75 columns]"
      ]
     },
     "execution_count": 84,
     "metadata": {},
     "output_type": "execute_result"
    }
   ],
   "source": [
    "member_office_df[pd.isna(member_office_df.PROVINCE_ID)]"
   ]
  },
  {
   "cell_type": "code",
   "execution_count": 83,
   "metadata": {},
   "outputs": [
    {
     "data": {
      "text/plain": [
       "1994"
      ]
     },
     "execution_count": 83,
     "metadata": {},
     "output_type": "execute_result"
    }
   ],
   "source": [
    "len(member_office_df.office_type_id)"
   ]
  },
  {
   "cell_type": "code",
   "execution_count": 85,
   "metadata": {},
   "outputs": [
    {
     "data": {
      "text/plain": [
       "20616"
      ]
     },
     "execution_count": 85,
     "metadata": {},
     "output_type": "execute_result"
    }
   ],
   "source": [
    "len(member_df)"
   ]
  },
  {
   "cell_type": "code",
   "execution_count": 86,
   "metadata": {},
   "outputs": [
    {
     "data": {
      "text/plain": [
       "58693"
      ]
     },
     "execution_count": 86,
     "metadata": {},
     "output_type": "execute_result"
    }
   ],
   "source": [
    "len(member_addr_df)"
   ]
  },
  {
   "cell_type": "code",
   "execution_count": 91,
   "metadata": {},
   "outputs": [],
   "source": [
    "member_ = pd.merge(member_df, member_addr_df, left_on='mem_id', right_on='mem_id')"
   ]
  },
  {
   "cell_type": "code",
   "execution_count": 92,
   "metadata": {},
   "outputs": [],
   "source": [
    "member_office_df = pd.merge(member_, office_type_df, left_on='office_type_id', right_on='office_type_id')"
   ]
  },
  {
   "cell_type": "code",
   "execution_count": 93,
   "metadata": {},
   "outputs": [
    {
     "data": {
      "text/plain": [
       "43440"
      ]
     },
     "execution_count": 93,
     "metadata": {},
     "output_type": "execute_result"
    }
   ],
   "source": [
    "len(member_office_df)"
   ]
  },
  {
   "cell_type": "code",
   "execution_count": 97,
   "metadata": {},
   "outputs": [],
   "source": [
    "member_office_province_df = pd.merge(member_office_df, province_df, left_on='PROVINCE_ID', right_on='PROVINCE_ID')"
   ]
  },
  {
   "cell_type": "code",
   "execution_count": 101,
   "metadata": {},
   "outputs": [
    {
     "data": {
      "text/plain": [
       "PROVINCE_NAME     type_name                                  \n",
       "กรุงเทพมหานคร     คลินิคเทคนิคการแพทย์                            247\n",
       "                  ธุรกิจส่วนตัว                                   186\n",
       "                  บริษัทจำหน่ายผลิตภัณฑ์ด้านการแพทย์             1460\n",
       "                  บริษัทบริการสุขภาพด้านการแพทย์                  576\n",
       "                  ประเภทหน่วยงาน อื่น ๆ                           773\n",
       "                  มหาวิทยาลัยของรัฐ                              1233\n",
       "                  มหาวิทยาลัยเอกชน                                 69\n",
       "                  ยังไม่ทำงาน                                     793\n",
       "                  ศึกษาต่อต่างประเทศ                               23\n",
       "                  ศึกษาต่อในประเทศ                                 92\n",
       "                  หน่วยงานของรัฐ ไม่ได้สังกัดกระทรวงสาธารณสุข    1113\n",
       "                  หน่วยงานของรัฐสังกัด กระทรวงสาธารณสุข           562\n",
       "                  อยู่ต่างประเทศ                                   22\n",
       "                  เกษียณอายุ                                       87\n",
       "                  โรงพยาบาลเอกชน                                 1675\n",
       "Name: mem_id, dtype: int64"
      ]
     },
     "execution_count": 101,
     "metadata": {},
     "output_type": "execute_result"
    }
   ],
   "source": [
    "member_office_province_df[member_office_province_df.PROVINCE_ID==1].groupby(['PROVINCE_NAME','type_name']).count()['mem_id']"
   ]
  },
  {
   "cell_type": "code",
   "execution_count": 106,
   "metadata": {},
   "outputs": [],
   "source": [
    "member_office_province_df[member_office_province_df.PROVINCE_ID==1].groupby(['PROVINCE_NAME','type_name']).count()['mem_id'].to_excel('office_type_bkk_mt.xlsx')"
   ]
  },
  {
   "cell_type": "code",
   "execution_count": 115,
   "metadata": {},
   "outputs": [
    {
     "data": {
      "text/plain": [
       "75.96526969344198"
      ]
     },
     "execution_count": 115,
     "metadata": {},
     "output_type": "execute_result"
    }
   ],
   "source": [
    "len(member_df[~pd.isna(member_df.office_type_id)])/len(member_df)*100"
   ]
  },
  {
   "cell_type": "code",
   "execution_count": 112,
   "metadata": {},
   "outputs": [
    {
     "data": {
      "text/plain": [
       "20616"
      ]
     },
     "execution_count": 112,
     "metadata": {},
     "output_type": "execute_result"
    }
   ],
   "source": [
    "len(member_df)"
   ]
  },
  {
   "cell_type": "code",
   "execution_count": 116,
   "metadata": {},
   "outputs": [
    {
     "data": {
      "text/plain": [
       "Index(['mem_id', 'title_id', 'fname', 'lname', 'e_title', 'e_fname', 'e_lname',\n",
       "       'gender', 'persion_id', 'login_user', 'login_password', 'student_id',\n",
       "       's_year', 'f_year', 'address_id_doc', 'begin_date', 'exp_date',\n",
       "       'mem_status', 'edu_status', 'add_status', 'nation_code', 'passport_id',\n",
       "       'office_name', 'mobilesms', 'tel_no_house', 'fax_no_house',\n",
       "       'tel_no_office', 'fax_no_office', 'birthday', 'f_pnt_status',\n",
       "       'pnt_status', 'user_id', 'updt', 'u_id_studet', 'pic_member',\n",
       "       'email_member', 'mem_note', 'edu_level', 'u_name', 'mem_skill',\n",
       "       'last_update', 'flow_status_id', 'cpd_1', 'exam_type_main',\n",
       "       'doc_status', 'pic_card', 'pnt_req_date', 'cpd_score', 'cpd_score59',\n",
       "       'cpd_score60', 'mem_id_txt', 'office_type_id', 'position',\n",
       "       'addr_lastupdate', 'other_office_type', 'old_mem_id', 'begin_s_year',\n",
       "       'new_mem_status', 'mem_status_id'],\n",
       "      dtype='object')"
      ]
     },
     "execution_count": 116,
     "metadata": {},
     "output_type": "execute_result"
    }
   ],
   "source": [
    "member_df.columns"
   ]
  },
  {
   "cell_type": "code",
   "execution_count": 121,
   "metadata": {},
   "outputs": [],
   "source": [
    "member_skill_df = pd.read_sql_table('member_skill', con=engine)"
   ]
  },
  {
   "cell_type": "code",
   "execution_count": 123,
   "metadata": {},
   "outputs": [],
   "source": [
    "skill_df = pd.read_sql_table('skill_table', con=engine)"
   ]
  },
  {
   "cell_type": "code",
   "execution_count": 130,
   "metadata": {},
   "outputs": [],
   "source": [
    "joined_member_skill = pd.merge(member_skill_df,skill_df, left_on='skill_id', right_on='skill_id')\n",
    "joined_member_skill = pd.merge(joined_member_skill, member_df, left_on='mem_id', right_on='mem_id')"
   ]
  },
  {
   "cell_type": "code",
   "execution_count": 132,
   "metadata": {},
   "outputs": [
    {
     "data": {
      "text/html": [
       "<div>\n",
       "<style scoped>\n",
       "    .dataframe tbody tr th:only-of-type {\n",
       "        vertical-align: middle;\n",
       "    }\n",
       "\n",
       "    .dataframe tbody tr th {\n",
       "        vertical-align: top;\n",
       "    }\n",
       "\n",
       "    .dataframe thead th {\n",
       "        text-align: right;\n",
       "    }\n",
       "</style>\n",
       "<table border=\"1\" class=\"dataframe\">\n",
       "  <thead>\n",
       "    <tr style=\"text-align: right;\">\n",
       "      <th></th>\n",
       "      <th>mem_id</th>\n",
       "      <th>skill_id</th>\n",
       "      <th>skill_txt</th>\n",
       "      <th>mem_skill_x</th>\n",
       "      <th>skill_name</th>\n",
       "      <th>seq_no</th>\n",
       "      <th>title_id</th>\n",
       "      <th>fname</th>\n",
       "      <th>lname</th>\n",
       "      <th>e_title</th>\n",
       "      <th>...</th>\n",
       "      <th>cpd_score60</th>\n",
       "      <th>mem_id_txt</th>\n",
       "      <th>office_type_id</th>\n",
       "      <th>position</th>\n",
       "      <th>addr_lastupdate</th>\n",
       "      <th>other_office_type</th>\n",
       "      <th>old_mem_id</th>\n",
       "      <th>begin_s_year</th>\n",
       "      <th>new_mem_status</th>\n",
       "      <th>mem_status_id</th>\n",
       "    </tr>\n",
       "  </thead>\n",
       "  <tbody>\n",
       "    <tr>\n",
       "      <th>7</th>\n",
       "      <td>5449.0</td>\n",
       "      <td>17.0</td>\n",
       "      <td>None</td>\n",
       "      <td>None</td>\n",
       "      <td>เทคนิคการแพทยศาสตร์ศึกษา</td>\n",
       "      <td>16.0</td>\n",
       "      <td>นางสาว</td>\n",
       "      <td>พรสุรี</td>\n",
       "      <td>พงษ์สุชาติ</td>\n",
       "      <td>Miss</td>\n",
       "      <td>...</td>\n",
       "      <td>0.0</td>\n",
       "      <td>459947005449</td>\n",
       "      <td>11.0</td>\n",
       "      <td>Medical Laboratory Technologist</td>\n",
       "      <td>2019-09-19</td>\n",
       "      <td>บริษัทเอกชน</td>\n",
       "      <td>NaN</td>\n",
       "      <td>None</td>\n",
       "      <td>None</td>\n",
       "      <td>1.0</td>\n",
       "    </tr>\n",
       "    <tr>\n",
       "      <th>1774</th>\n",
       "      <td>7727.0</td>\n",
       "      <td>17.0</td>\n",
       "      <td>None</td>\n",
       "      <td>None</td>\n",
       "      <td>เทคนิคการแพทยศาสตร์ศึกษา</td>\n",
       "      <td>16.0</td>\n",
       "      <td>นางสาว</td>\n",
       "      <td>ปัทมาพร</td>\n",
       "      <td>พงภักดิ์ขวัญ</td>\n",
       "      <td>Miss</td>\n",
       "      <td>...</td>\n",
       "      <td>0.0</td>\n",
       "      <td>499947007727</td>\n",
       "      <td>6.0</td>\n",
       "      <td>ผู้จัดการสาขา</td>\n",
       "      <td>2018-04-18</td>\n",
       "      <td></td>\n",
       "      <td>NaN</td>\n",
       "      <td>None</td>\n",
       "      <td>None</td>\n",
       "      <td>1.0</td>\n",
       "    </tr>\n",
       "    <tr>\n",
       "      <th>2473</th>\n",
       "      <td>6255.0</td>\n",
       "      <td>17.0</td>\n",
       "      <td>None</td>\n",
       "      <td>None</td>\n",
       "      <td>เทคนิคการแพทยศาสตร์ศึกษา</td>\n",
       "      <td>16.0</td>\n",
       "      <td>นางสาว</td>\n",
       "      <td>วชิรยา</td>\n",
       "      <td>ปาทาน</td>\n",
       "      <td>Miss</td>\n",
       "      <td>...</td>\n",
       "      <td>0.0</td>\n",
       "      <td>469947006255</td>\n",
       "      <td>6.0</td>\n",
       "      <td>หัวหน้าห้องปฏิบัติการ</td>\n",
       "      <td>2020-06-17</td>\n",
       "      <td></td>\n",
       "      <td>NaN</td>\n",
       "      <td>None</td>\n",
       "      <td>None</td>\n",
       "      <td>1.0</td>\n",
       "    </tr>\n",
       "    <tr>\n",
       "      <th>7077</th>\n",
       "      <td>690.0</td>\n",
       "      <td>17.0</td>\n",
       "      <td>None</td>\n",
       "      <td>None</td>\n",
       "      <td>เทคนิคการแพทยศาสตร์ศึกษา</td>\n",
       "      <td>16.0</td>\n",
       "      <td>นาย</td>\n",
       "      <td>ยุทธนา</td>\n",
       "      <td>หมั่นดี</td>\n",
       "      <td>Asst.Prof.MT.Dr.</td>\n",
       "      <td>...</td>\n",
       "      <td>0.0</td>\n",
       "      <td>259947000690</td>\n",
       "      <td>4.0</td>\n",
       "      <td>คณบดี</td>\n",
       "      <td>2020-03-08</td>\n",
       "      <td>คณะสหเวชศาสตร์</td>\n",
       "      <td>NaN</td>\n",
       "      <td>None</td>\n",
       "      <td>None</td>\n",
       "      <td>1.0</td>\n",
       "    </tr>\n",
       "    <tr>\n",
       "      <th>10505</th>\n",
       "      <td>7524.0</td>\n",
       "      <td>17.0</td>\n",
       "      <td>None</td>\n",
       "      <td>None</td>\n",
       "      <td>เทคนิคการแพทยศาสตร์ศึกษา</td>\n",
       "      <td>16.0</td>\n",
       "      <td>นางสาว</td>\n",
       "      <td>ยุวดี</td>\n",
       "      <td>อยู่สุข</td>\n",
       "      <td>Miss</td>\n",
       "      <td>...</td>\n",
       "      <td>0.0</td>\n",
       "      <td>489947007524</td>\n",
       "      <td>6.0</td>\n",
       "      <td>นักเทคนิคการแพทย์</td>\n",
       "      <td>2020-06-23</td>\n",
       "      <td>รพ.</td>\n",
       "      <td>NaN</td>\n",
       "      <td>None</td>\n",
       "      <td>None</td>\n",
       "      <td>1.0</td>\n",
       "    </tr>\n",
       "  </tbody>\n",
       "</table>\n",
       "<p>5 rows × 64 columns</p>\n",
       "</div>"
      ],
      "text/plain": [
       "       mem_id  skill_id skill_txt mem_skill_x                skill_name  \\\n",
       "7      5449.0      17.0      None        None  เทคนิคการแพทยศาสตร์ศึกษา   \n",
       "1774   7727.0      17.0      None        None  เทคนิคการแพทยศาสตร์ศึกษา   \n",
       "2473   6255.0      17.0      None        None  เทคนิคการแพทยศาสตร์ศึกษา   \n",
       "7077    690.0      17.0      None        None  เทคนิคการแพทยศาสตร์ศึกษา   \n",
       "10505  7524.0      17.0      None        None  เทคนิคการแพทยศาสตร์ศึกษา   \n",
       "\n",
       "       seq_no title_id    fname         lname           e_title  ...  \\\n",
       "7        16.0   นางสาว   พรสุรี    พงษ์สุชาติ              Miss  ...   \n",
       "1774     16.0   นางสาว  ปัทมาพร  พงภักดิ์ขวัญ              Miss  ...   \n",
       "2473     16.0   นางสาว   วชิรยา         ปาทาน              Miss  ...   \n",
       "7077     16.0      นาย   ยุทธนา       หมั่นดี  Asst.Prof.MT.Dr.  ...   \n",
       "10505    16.0   นางสาว    ยุวดี       อยู่สุข              Miss  ...   \n",
       "\n",
       "      cpd_score60    mem_id_txt office_type_id  \\\n",
       "7             0.0  459947005449           11.0   \n",
       "1774          0.0  499947007727            6.0   \n",
       "2473          0.0  469947006255            6.0   \n",
       "7077          0.0  259947000690            4.0   \n",
       "10505         0.0  489947007524            6.0   \n",
       "\n",
       "                              position addr_lastupdate other_office_type  \\\n",
       "7      Medical Laboratory Technologist      2019-09-19       บริษัทเอกชน   \n",
       "1774                     ผู้จัดการสาขา      2018-04-18                     \n",
       "2473             หัวหน้าห้องปฏิบัติการ      2020-06-17                     \n",
       "7077                             คณบดี      2020-03-08    คณะสหเวชศาสตร์   \n",
       "10505                นักเทคนิคการแพทย์      2020-06-23               รพ.   \n",
       "\n",
       "      old_mem_id begin_s_year new_mem_status  mem_status_id  \n",
       "7            NaN         None           None            1.0  \n",
       "1774         NaN         None           None            1.0  \n",
       "2473         NaN         None           None            1.0  \n",
       "7077         NaN         None           None            1.0  \n",
       "10505        NaN         None           None            1.0  \n",
       "\n",
       "[5 rows x 64 columns]"
      ]
     },
     "execution_count": 132,
     "metadata": {},
     "output_type": "execute_result"
    }
   ],
   "source": [
    "joined_member_skill[joined_member_skill.skill_id==17]"
   ]
  },
  {
   "cell_type": "code",
   "execution_count": 143,
   "metadata": {},
   "outputs": [
    {
     "data": {
      "text/plain": [
       "<matplotlib.axes._subplots.AxesSubplot at 0x12a8c1dd0>"
      ]
     },
     "execution_count": 143,
     "metadata": {},
     "output_type": "execute_result"
    },
    {
     "data": {
      "image/png": "[encoded data removed]",
      "text/plain": [
       "<Figure size 720x720 with 1 Axes>"
      ]
     },
     "metadata": {},
     "output_type": "display_data"
    }
   ],
   "source": [
    "joined_member_skill.groupby('skill_name').count()['mem_id'].plot(kind='pie', figsize=(10,10), fontsize=16)"
   ]
  },
  {
   "cell_type": "code",
   "execution_count": 157,
   "metadata": {},
   "outputs": [],
   "source": [
    "def check_null_or_empty_string(x):\n",
    "    if pd.isna(x):\n",
    "        return True\n",
    "    else:\n",
    "        if isinstance(x, str):\n",
    "            return x.strip() == ''"
   ]
  },
  {
   "cell_type": "code",
   "execution_count": 159,
   "metadata": {},
   "outputs": [],
   "source": [
    "member_tbl_avail = (len(member_df)-member_df.applymap(check_null_or_empty_string).sum())/len(member_df)*100"
   ]
  },
  {
   "cell_type": "code",
   "execution_count": 160,
   "metadata": {},
   "outputs": [],
   "source": [
    "member_tbl_avail.to_excel('member_tbl_avail.xlsx')"
   ]
  },
  {
   "cell_type": "code",
   "execution_count": 173,
   "metadata": {},
   "outputs": [
    {
     "data": {
      "text/plain": [
       "title_id\n",
       "rพลตรี ม.ล.         1\n",
       " นางสาว             2\n",
       "จ.ส.อ.              1\n",
       "น.ต.                1\n",
       "น.ท.                1\n",
       "                   ..\n",
       "เรืออากาศเอกหญิง    2\n",
       "เรืออากาศโท         2\n",
       "เรืออากาศโทหญิง     3\n",
       "เรือเอก             1\n",
       "เรือโท              1\n",
       "Name: mem_id, Length: 78, dtype: int64"
      ]
     },
     "execution_count": 173,
     "metadata": {},
     "output_type": "execute_result"
    }
   ],
   "source": [
    "member_df[pd.isna(member_df['gender'])].groupby(['title_id']).count()['mem_id']"
   ]
  },
  {
   "cell_type": "code",
   "execution_count": null,
   "metadata": {},
   "outputs": [],
   "source": []
  }
 ],
 "metadata": {
  "kernelspec": {
   "display_name": "Python 3",
   "language": "python",
   "name": "python3"
  },
  "language_info": {
   "codemirror_mode": {
    "name": "ipython",
    "version": 3
   },
   "file_extension": ".py",
   "mimetype": "text/x-python",
   "name": "python",
   "nbconvert_exporter": "python",
   "pygments_lexer": "ipython3",
   "version": "3.7.7"
  }
 },
 "nbformat": 4,
 "nbformat_minor": 4
}
